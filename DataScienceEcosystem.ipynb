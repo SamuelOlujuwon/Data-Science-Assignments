{
 "cells": [
  {
   "cell_type": "markdown",
   "id": "9537f78f-1315-418b-9a94-890acc33e4f2",
   "metadata": {},
   "source": [
    "# Data Science Tools and Ecosystem"
   ]
  },
  {
   "cell_type": "markdown",
   "id": "ee14368f-aa9e-4de2-8472-5194081b8533",
   "metadata": {},
   "source": [
    "In this notebook, Data Science Tools and Ecosystem are summarized."
   ]
  },
  {
   "cell_type": "markdown",
   "id": "4315405c-a6bb-409b-9f99-c5b8e1e4125c",
   "metadata": {},
   "source": [
    "**Objectives:**"
   ]
  },
  {
   "cell_type": "markdown",
   "id": "0d16f9be-f421-4cf5-a3c0-53fce38498f4",
   "metadata": {},
   "source": [
    "- List popular languages for Data Science.\n",
    "- Commonly used libraries used by Data Scientists.\n",
    "- Data Science tools.\n",
    "- Evaluation of arithmetic expressions in Python."
   ]
  },
  {
   "cell_type": "markdown",
   "id": "c5798e52-b551-4884-a802-f1e187c97152",
   "metadata": {},
   "source": [
    "*Some of the popular languages that Data Scientists use are:*"
   ]
  },
  {
   "cell_type": "markdown",
   "id": "26887a4f-e501-4bfa-8282-80e84f07d51c",
   "metadata": {},
   "source": [
    "1. Python\n",
    "2. R\n",
    "3. SQL\n",
    "4. Scala"
   ]
  },
  {
   "cell_type": "markdown",
   "id": "c8162bb0-390a-4bdd-bc4b-8b592c3f1f2e",
   "metadata": {},
   "source": [
    "*Some of the commonly used libraries used by Data Scientists include:*"
   ]
  },
  {
   "cell_type": "markdown",
   "id": "cb342014-ed17-4bd7-a58b-afb0ea9a7f08",
   "metadata": {},
   "source": [
    "+ Numpy\n",
    "+ Pandas\n",
    "+ TensotFlow\n",
    "+ Scikit-learn"
   ]
  },
  {
   "attachments": {},
   "cell_type": "markdown",
   "id": "07866d0b-ff8d-4ec4-8136-6918c0f220ec",
   "metadata": {},
   "source": [
    "|Data Science Tools |\n",
    "| ------------------ |\n",
    "| Apache Spark |\n",
    "| Jupyter Notebook |\n",
    "| Visual Studio Code |"
   ]
  },
  {
   "cell_type": "markdown",
   "id": "2eb20d83-6cd5-4bcc-a69e-ece387fdba0c",
   "metadata": {},
   "source": [
    "### Below are a few examples of evaluating arithmetic expressions in Python"
   ]
  },
  {
   "cell_type": "code",
   "execution_count": 23,
   "id": "ca21e653-9ff0-4b40-8da7-33995ff28de6",
   "metadata": {},
   "outputs": [
    {
     "data": {
      "text/plain": [
       "17"
      ]
     },
     "execution_count": 23,
     "metadata": {},
     "output_type": "execute_result"
    }
   ],
   "source": [
    "## This a simple arithmetic expression to mutiply then add integers\n",
    "(3*4)+5"
   ]
  },
  {
   "cell_type": "code",
   "execution_count": 25,
   "id": "40ee136d-81d0-49a1-bfd5-c867a6e001a7",
   "metadata": {},
   "outputs": [
    {
     "data": {
      "text/plain": [
       "3.3333333333333335"
      ]
     },
     "execution_count": 25,
     "metadata": {},
     "output_type": "execute_result"
    }
   ],
   "source": [
    "## This will convert 200 minutes to hours by dividing by 60\n",
    "200/60"
   ]
  },
  {
   "cell_type": "markdown",
   "id": "062e55f3-2eb5-4d5e-9859-d506ee7cc564",
   "metadata": {},
   "source": [
    "## Author\n",
    "Samuel Ogunseye"
   ]
  },
  {
   "cell_type": "code",
   "execution_count": null,
   "id": "ea3a55ba-0f84-42ef-9d40-ec6bd7e60005",
   "metadata": {},
   "outputs": [],
   "source": []
  }
 ],
 "metadata": {
  "kernelspec": {
   "display_name": "Python 3 (ipykernel)",
   "language": "python",
   "name": "python3"
  },
  "language_info": {
   "codemirror_mode": {
    "name": "ipython",
    "version": 3
   },
   "file_extension": ".py",
   "mimetype": "text/x-python",
   "name": "python",
   "nbconvert_exporter": "python",
   "pygments_lexer": "ipython3",
   "version": "3.12.4"
  }
 },
 "nbformat": 4,
 "nbformat_minor": 5
}
